{
  "cells": [
    {
      "cell_type": "code",
      "execution_count": 2,
      "metadata": {
        "id": "TJfQ6O8NzT-6"
      },
      "outputs": [],
      "source": [
        "import numpy as np\n",
        "import pandas as pd\n",
        "from sklearn.linear_model import LinearRegression\n",
        "import math\n",
        "import matplotlib.pyplot as plt"
      ]
    },
    {
      "cell_type": "code",
      "execution_count": 3,
      "metadata": {
        "id": "1rq1Kcxj1aos"
      },
      "outputs": [
        {
          "data": {
            "text/html": [
              "<div>\n",
              "<style scoped>\n",
              "    .dataframe tbody tr th:only-of-type {\n",
              "        vertical-align: middle;\n",
              "    }\n",
              "\n",
              "    .dataframe tbody tr th {\n",
              "        vertical-align: top;\n",
              "    }\n",
              "\n",
              "    .dataframe thead th {\n",
              "        text-align: right;\n",
              "    }\n",
              "</style>\n",
              "<table border=\"1\" class=\"dataframe\">\n",
              "  <thead>\n",
              "    <tr style=\"text-align: right;\">\n",
              "      <th></th>\n",
              "      <th>dia</th>\n",
              "      <th>regional wind</th>\n",
              "      <th>wind gap norte sur</th>\n",
              "    </tr>\n",
              "  </thead>\n",
              "  <tbody>\n",
              "    <tr>\n",
              "      <th>0</th>\n",
              "      <td>1</td>\n",
              "      <td>8.000000</td>\n",
              "      <td>0.000000</td>\n",
              "    </tr>\n",
              "    <tr>\n",
              "      <th>1</th>\n",
              "      <td>2</td>\n",
              "      <td>8.346296</td>\n",
              "      <td>0.181523</td>\n",
              "    </tr>\n",
              "    <tr>\n",
              "      <th>2</th>\n",
              "      <td>3</td>\n",
              "      <td>10.062316</td>\n",
              "      <td>0.188643</td>\n",
              "    </tr>\n",
              "    <tr>\n",
              "      <th>3</th>\n",
              "      <td>4</td>\n",
              "      <td>10.791337</td>\n",
              "      <td>0.071085</td>\n",
              "    </tr>\n",
              "    <tr>\n",
              "      <th>4</th>\n",
              "      <td>5</td>\n",
              "      <td>10.754093</td>\n",
              "      <td>0.078442</td>\n",
              "    </tr>\n",
              "    <tr>\n",
              "      <th>...</th>\n",
              "      <td>...</td>\n",
              "      <td>...</td>\n",
              "      <td>...</td>\n",
              "    </tr>\n",
              "    <tr>\n",
              "      <th>3645</th>\n",
              "      <td>3646</td>\n",
              "      <td>8.642231</td>\n",
              "      <td>-0.869425</td>\n",
              "    </tr>\n",
              "    <tr>\n",
              "      <th>3646</th>\n",
              "      <td>3647</td>\n",
              "      <td>6.527408</td>\n",
              "      <td>-1.268447</td>\n",
              "    </tr>\n",
              "    <tr>\n",
              "      <th>3647</th>\n",
              "      <td>3648</td>\n",
              "      <td>6.230707</td>\n",
              "      <td>-1.149234</td>\n",
              "    </tr>\n",
              "    <tr>\n",
              "      <th>3648</th>\n",
              "      <td>3649</td>\n",
              "      <td>5.550882</td>\n",
              "      <td>-0.420431</td>\n",
              "    </tr>\n",
              "    <tr>\n",
              "      <th>3649</th>\n",
              "      <td>3650</td>\n",
              "      <td>6.545450</td>\n",
              "      <td>0.250088</td>\n",
              "    </tr>\n",
              "  </tbody>\n",
              "</table>\n",
              "<p>3650 rows × 3 columns</p>\n",
              "</div>"
            ],
            "text/plain": [
              "       dia  regional wind  wind gap norte sur\n",
              "0        1       8.000000            0.000000\n",
              "1        2       8.346296            0.181523\n",
              "2        3      10.062316            0.188643\n",
              "3        4      10.791337            0.071085\n",
              "4        5      10.754093            0.078442\n",
              "...    ...            ...                 ...\n",
              "3645  3646       8.642231           -0.869425\n",
              "3646  3647       6.527408           -1.268447\n",
              "3647  3648       6.230707           -1.149234\n",
              "3648  3649       5.550882           -0.420431\n",
              "3649  3650       6.545450            0.250088\n",
              "\n",
              "[3650 rows x 3 columns]"
            ]
          },
          "execution_count": 3,
          "metadata": {},
          "output_type": "execute_result"
        }
      ],
      "source": [
        "data = pd.read_csv('Wind_Data.csv')\n",
        "data"
      ]
    },
    {
      "cell_type": "code",
      "execution_count": 4,
      "metadata": {},
      "outputs": [
        {
          "data": {
            "text/html": [
              "<div>\n",
              "<style scoped>\n",
              "    .dataframe tbody tr th:only-of-type {\n",
              "        vertical-align: middle;\n",
              "    }\n",
              "\n",
              "    .dataframe tbody tr th {\n",
              "        vertical-align: top;\n",
              "    }\n",
              "\n",
              "    .dataframe thead th {\n",
              "        text-align: right;\n",
              "    }\n",
              "</style>\n",
              "<table border=\"1\" class=\"dataframe\">\n",
              "  <thead>\n",
              "    <tr style=\"text-align: right;\">\n",
              "      <th></th>\n",
              "      <th>dia</th>\n",
              "      <th>regional wind</th>\n",
              "      <th>wind gap norte sur</th>\n",
              "      <th>wind_increase</th>\n",
              "    </tr>\n",
              "  </thead>\n",
              "  <tbody>\n",
              "    <tr>\n",
              "      <th>0</th>\n",
              "      <td>1</td>\n",
              "      <td>8.000000</td>\n",
              "      <td>0.000000</td>\n",
              "      <td>NaN</td>\n",
              "    </tr>\n",
              "    <tr>\n",
              "      <th>1</th>\n",
              "      <td>2</td>\n",
              "      <td>8.346296</td>\n",
              "      <td>0.181523</td>\n",
              "      <td>0.346296</td>\n",
              "    </tr>\n",
              "    <tr>\n",
              "      <th>2</th>\n",
              "      <td>3</td>\n",
              "      <td>10.062316</td>\n",
              "      <td>0.188643</td>\n",
              "      <td>1.716019</td>\n",
              "    </tr>\n",
              "    <tr>\n",
              "      <th>3</th>\n",
              "      <td>4</td>\n",
              "      <td>10.791337</td>\n",
              "      <td>0.071085</td>\n",
              "      <td>0.729021</td>\n",
              "    </tr>\n",
              "    <tr>\n",
              "      <th>4</th>\n",
              "      <td>5</td>\n",
              "      <td>10.754093</td>\n",
              "      <td>0.078442</td>\n",
              "      <td>-0.037244</td>\n",
              "    </tr>\n",
              "    <tr>\n",
              "      <th>...</th>\n",
              "      <td>...</td>\n",
              "      <td>...</td>\n",
              "      <td>...</td>\n",
              "      <td>...</td>\n",
              "    </tr>\n",
              "    <tr>\n",
              "      <th>3645</th>\n",
              "      <td>3646</td>\n",
              "      <td>8.642231</td>\n",
              "      <td>-0.869425</td>\n",
              "      <td>0.940298</td>\n",
              "    </tr>\n",
              "    <tr>\n",
              "      <th>3646</th>\n",
              "      <td>3647</td>\n",
              "      <td>6.527408</td>\n",
              "      <td>-1.268447</td>\n",
              "      <td>-2.114824</td>\n",
              "    </tr>\n",
              "    <tr>\n",
              "      <th>3647</th>\n",
              "      <td>3648</td>\n",
              "      <td>6.230707</td>\n",
              "      <td>-1.149234</td>\n",
              "      <td>-0.296701</td>\n",
              "    </tr>\n",
              "    <tr>\n",
              "      <th>3648</th>\n",
              "      <td>3649</td>\n",
              "      <td>5.550882</td>\n",
              "      <td>-0.420431</td>\n",
              "      <td>-0.679825</td>\n",
              "    </tr>\n",
              "    <tr>\n",
              "      <th>3649</th>\n",
              "      <td>3650</td>\n",
              "      <td>6.545450</td>\n",
              "      <td>0.250088</td>\n",
              "      <td>0.994568</td>\n",
              "    </tr>\n",
              "  </tbody>\n",
              "</table>\n",
              "<p>3650 rows × 4 columns</p>\n",
              "</div>"
            ],
            "text/plain": [
              "       dia  regional wind  wind gap norte sur  wind_increase\n",
              "0        1       8.000000            0.000000            NaN\n",
              "1        2       8.346296            0.181523       0.346296\n",
              "2        3      10.062316            0.188643       1.716019\n",
              "3        4      10.791337            0.071085       0.729021\n",
              "4        5      10.754093            0.078442      -0.037244\n",
              "...    ...            ...                 ...            ...\n",
              "3645  3646       8.642231           -0.869425       0.940298\n",
              "3646  3647       6.527408           -1.268447      -2.114824\n",
              "3647  3648       6.230707           -1.149234      -0.296701\n",
              "3648  3649       5.550882           -0.420431      -0.679825\n",
              "3649  3650       6.545450            0.250088       0.994568\n",
              "\n",
              "[3650 rows x 4 columns]"
            ]
          },
          "execution_count": 4,
          "metadata": {},
          "output_type": "execute_result"
        }
      ],
      "source": [
        "def daily_dif(current_wind, previous_wind):\n",
        "    # Calcula el retorno diario como la diferencia porcentual entre los wind\n",
        "    return (current_wind - previous_wind)\n",
        "\n",
        "data['wind_increase'] = daily_dif(data['regional wind'], data['regional wind'].shift(1))\n",
        "data"
      ]
    },
    {
      "cell_type": "code",
      "execution_count": 5,
      "metadata": {},
      "outputs": [
        {
          "data": {
            "text/plain": [
              "array([ 0.34629632,  1.71601931,  0.72902099, ..., -0.29670083,\n",
              "       -0.67982467,  0.99456757])"
            ]
          },
          "execution_count": 5,
          "metadata": {},
          "output_type": "execute_result"
        }
      ],
      "source": [
        "Y = (data['wind_increase'])[1:].values\n",
        "Y"
      ]
    },
    {
      "cell_type": "code",
      "execution_count": 6,
      "metadata": {},
      "outputs": [],
      "source": [
        "delta = 1/365\n",
        "\n",
        "def theta(i):\n",
        "    return 6 + 2 * math.cos(2*math.pi * (i-1)/365)"
      ]
    },
    {
      "cell_type": "code",
      "execution_count": 7,
      "metadata": {},
      "outputs": [
        {
          "data": {
            "text/html": [
              "<div>\n",
              "<style scoped>\n",
              "    .dataframe tbody tr th:only-of-type {\n",
              "        vertical-align: middle;\n",
              "    }\n",
              "\n",
              "    .dataframe tbody tr th {\n",
              "        vertical-align: top;\n",
              "    }\n",
              "\n",
              "    .dataframe thead th {\n",
              "        text-align: right;\n",
              "    }\n",
              "</style>\n",
              "<table border=\"1\" class=\"dataframe\">\n",
              "  <thead>\n",
              "    <tr style=\"text-align: right;\">\n",
              "      <th></th>\n",
              "      <th>dia</th>\n",
              "      <th>regional wind</th>\n",
              "      <th>wind gap norte sur</th>\n",
              "      <th>wind_increase</th>\n",
              "      <th>theta</th>\n",
              "    </tr>\n",
              "  </thead>\n",
              "  <tbody>\n",
              "    <tr>\n",
              "      <th>0</th>\n",
              "      <td>1</td>\n",
              "      <td>8.000000</td>\n",
              "      <td>0.000000</td>\n",
              "      <td>NaN</td>\n",
              "      <td>8.000000</td>\n",
              "    </tr>\n",
              "    <tr>\n",
              "      <th>1</th>\n",
              "      <td>2</td>\n",
              "      <td>8.346296</td>\n",
              "      <td>0.181523</td>\n",
              "      <td>0.346296</td>\n",
              "      <td>7.999704</td>\n",
              "    </tr>\n",
              "    <tr>\n",
              "      <th>2</th>\n",
              "      <td>3</td>\n",
              "      <td>10.062316</td>\n",
              "      <td>0.188643</td>\n",
              "      <td>1.716019</td>\n",
              "      <td>7.998815</td>\n",
              "    </tr>\n",
              "    <tr>\n",
              "      <th>3</th>\n",
              "      <td>4</td>\n",
              "      <td>10.791337</td>\n",
              "      <td>0.071085</td>\n",
              "      <td>0.729021</td>\n",
              "      <td>7.997334</td>\n",
              "    </tr>\n",
              "    <tr>\n",
              "      <th>4</th>\n",
              "      <td>5</td>\n",
              "      <td>10.754093</td>\n",
              "      <td>0.078442</td>\n",
              "      <td>-0.037244</td>\n",
              "      <td>7.995261</td>\n",
              "    </tr>\n",
              "    <tr>\n",
              "      <th>...</th>\n",
              "      <td>...</td>\n",
              "      <td>...</td>\n",
              "      <td>...</td>\n",
              "      <td>...</td>\n",
              "      <td>...</td>\n",
              "    </tr>\n",
              "    <tr>\n",
              "      <th>3645</th>\n",
              "      <td>3646</td>\n",
              "      <td>8.642231</td>\n",
              "      <td>-0.869425</td>\n",
              "      <td>0.940298</td>\n",
              "      <td>7.992596</td>\n",
              "    </tr>\n",
              "    <tr>\n",
              "      <th>3646</th>\n",
              "      <td>3647</td>\n",
              "      <td>6.527408</td>\n",
              "      <td>-1.268447</td>\n",
              "      <td>-2.114824</td>\n",
              "      <td>7.995261</td>\n",
              "    </tr>\n",
              "    <tr>\n",
              "      <th>3647</th>\n",
              "      <td>3648</td>\n",
              "      <td>6.230707</td>\n",
              "      <td>-1.149234</td>\n",
              "      <td>-0.296701</td>\n",
              "      <td>7.997334</td>\n",
              "    </tr>\n",
              "    <tr>\n",
              "      <th>3648</th>\n",
              "      <td>3649</td>\n",
              "      <td>5.550882</td>\n",
              "      <td>-0.420431</td>\n",
              "      <td>-0.679825</td>\n",
              "      <td>7.998815</td>\n",
              "    </tr>\n",
              "    <tr>\n",
              "      <th>3649</th>\n",
              "      <td>3650</td>\n",
              "      <td>6.545450</td>\n",
              "      <td>0.250088</td>\n",
              "      <td>0.994568</td>\n",
              "      <td>7.999704</td>\n",
              "    </tr>\n",
              "  </tbody>\n",
              "</table>\n",
              "<p>3650 rows × 5 columns</p>\n",
              "</div>"
            ],
            "text/plain": [
              "       dia  regional wind  wind gap norte sur  wind_increase     theta\n",
              "0        1       8.000000            0.000000            NaN  8.000000\n",
              "1        2       8.346296            0.181523       0.346296  7.999704\n",
              "2        3      10.062316            0.188643       1.716019  7.998815\n",
              "3        4      10.791337            0.071085       0.729021  7.997334\n",
              "4        5      10.754093            0.078442      -0.037244  7.995261\n",
              "...    ...            ...                 ...            ...       ...\n",
              "3645  3646       8.642231           -0.869425       0.940298  7.992596\n",
              "3646  3647       6.527408           -1.268447      -2.114824  7.995261\n",
              "3647  3648       6.230707           -1.149234      -0.296701  7.997334\n",
              "3648  3649       5.550882           -0.420431      -0.679825  7.998815\n",
              "3649  3650       6.545450            0.250088       0.994568  7.999704\n",
              "\n",
              "[3650 rows x 5 columns]"
            ]
          },
          "execution_count": 7,
          "metadata": {},
          "output_type": "execute_result"
        }
      ],
      "source": [
        "data['theta'] = data['dia'].apply(theta)\n",
        "\n",
        "data"
      ]
    },
    {
      "cell_type": "code",
      "execution_count": 8,
      "metadata": {},
      "outputs": [],
      "source": [
        "s_i = data['regional wind'].shift(1)"
      ]
    },
    {
      "cell_type": "code",
      "execution_count": 9,
      "metadata": {},
      "outputs": [
        {
          "data": {
            "text/plain": [
              "array([-8.11839950e-07, -9.52004170e-04, -5.65748493e-03, ...,\n",
              "        4.02719442e-03,  4.84413140e-03,  6.70910002e-03])"
            ]
          },
          "execution_count": 9,
          "metadata": {},
          "output_type": "execute_result"
        }
      ],
      "source": [
        "theta = data['theta']\n",
        "X = ((theta - s_i) * delta)[1:].values\n",
        "X"
      ]
    },
    {
      "cell_type": "code",
      "execution_count": 10,
      "metadata": {},
      "outputs": [],
      "source": [
        "reg = LinearRegression().fit(X.reshape(-1,1), Y)"
      ]
    },
    {
      "cell_type": "code",
      "execution_count": 11,
      "metadata": {},
      "outputs": [
        {
          "data": {
            "text/plain": [
              "array([-0.01099343, -0.11471264, -0.62780417, ...,  0.42822543,\n",
              "        0.51730527,  0.72066379])"
            ]
          },
          "execution_count": 11,
          "metadata": {},
          "output_type": "execute_result"
        }
      ],
      "source": [
        "Y_pred = reg.predict(X.reshape(-1,1))\n",
        "Y_pred"
      ]
    },
    {
      "cell_type": "code",
      "execution_count": 12,
      "metadata": {},
      "outputs": [
        {
          "data": {
            "text/plain": [
              "array([ 0.35728975,  1.83073195,  1.35682516, ..., -0.72492626,\n",
              "       -1.19712994,  0.27390378])"
            ]
          },
          "execution_count": 12,
          "metadata": {},
          "output_type": "execute_result"
        }
      ],
      "source": [
        "error = Y - Y_pred\n",
        "error"
      ]
    },
    {
      "cell_type": "code",
      "execution_count": 13,
      "metadata": {},
      "outputs": [
        {
          "data": {
            "text/plain": [
              "0.8398113412047269"
            ]
          },
          "execution_count": 13,
          "metadata": {},
          "output_type": "execute_result"
        }
      ],
      "source": [
        "c = np.sqrt(error.var())\n",
        "c"
      ]
    },
    {
      "cell_type": "code",
      "execution_count": 14,
      "metadata": {},
      "outputs": [
        {
          "data": {
            "text/plain": [
              "8.0"
            ]
          },
          "execution_count": 14,
          "metadata": {},
          "output_type": "execute_result"
        }
      ],
      "source": [
        "S_0 = data['regional wind'].iloc[0]\n",
        "S_0"
      ]
    },
    {
      "cell_type": "code",
      "execution_count": 15,
      "metadata": {},
      "outputs": [
        {
          "data": {
            "text/plain": [
              "109.04125628331586"
            ]
          },
          "execution_count": 15,
          "metadata": {},
          "output_type": "execute_result"
        }
      ],
      "source": [
        "kappa = reg.coef_[0]\n",
        "kappa"
      ]
    },
    {
      "cell_type": "code",
      "execution_count": 16,
      "metadata": {},
      "outputs": [
        {
          "data": {
            "text/plain": [
              "16.04457314539312"
            ]
          },
          "execution_count": 16,
          "metadata": {},
          "output_type": "execute_result"
        }
      ],
      "source": [
        "sigma = c / np.sqrt(delta)\n",
        "sigma"
      ]
    },
    {
      "cell_type": "code",
      "execution_count": 17,
      "metadata": {},
      "outputs": [],
      "source": [
        "def wind_paths(S_0, kappa, theta, sigma, delta, T):\n",
        "    S = np.full(T, S_0)\n",
        "    for t in range(1, T):\n",
        "      S[t] = S[t-1] + kappa * (theta[t] - S[t-1]) * delta + np.sqrt(delta) * np.random.normal(0,1) * sigma\n",
        "    return S"
      ]
    },
    {
      "cell_type": "code",
      "execution_count": 18,
      "metadata": {},
      "outputs": [
        {
          "data": {
            "text/plain": [
              "[<matplotlib.lines.Line2D at 0x149213940>]"
            ]
          },
          "execution_count": 18,
          "metadata": {},
          "output_type": "execute_result"
        },
        {
          "data": {
            "image/png": "[encoded data removed]",
            "text/plain": [
              "<Figure size 1000x600 with 1 Axes>"
            ]
          },
          "metadata": {},
          "output_type": "display_data"
        }
      ],
      "source": [
        "T = 365 * 10\n",
        "\n",
        "S = wind_paths(S_0, kappa, theta, sigma, delta, T)\n",
        "plt.figure(figsize = (10,6))\n",
        "plt.plot(S)"
      ]
    },
    {
      "cell_type": "code",
      "execution_count": 19,
      "metadata": {},
      "outputs": [
        {
          "data": {
            "text/html": [
              "<div>\n",
              "<style scoped>\n",
              "    .dataframe tbody tr th:only-of-type {\n",
              "        vertical-align: middle;\n",
              "    }\n",
              "\n",
              "    .dataframe tbody tr th {\n",
              "        vertical-align: top;\n",
              "    }\n",
              "\n",
              "    .dataframe thead th {\n",
              "        text-align: right;\n",
              "    }\n",
              "</style>\n",
              "<table border=\"1\" class=\"dataframe\">\n",
              "  <thead>\n",
              "    <tr style=\"text-align: right;\">\n",
              "      <th></th>\n",
              "      <th>dia</th>\n",
              "      <th>regional wind</th>\n",
              "      <th>wind gap norte sur</th>\n",
              "      <th>wind_increase</th>\n",
              "      <th>theta</th>\n",
              "      <th>gap_dif</th>\n",
              "    </tr>\n",
              "  </thead>\n",
              "  <tbody>\n",
              "    <tr>\n",
              "      <th>0</th>\n",
              "      <td>1</td>\n",
              "      <td>8.000000</td>\n",
              "      <td>0.000000</td>\n",
              "      <td>NaN</td>\n",
              "      <td>8.000000</td>\n",
              "      <td>NaN</td>\n",
              "    </tr>\n",
              "    <tr>\n",
              "      <th>1</th>\n",
              "      <td>2</td>\n",
              "      <td>8.346296</td>\n",
              "      <td>0.181523</td>\n",
              "      <td>0.346296</td>\n",
              "      <td>7.999704</td>\n",
              "      <td>0.181523</td>\n",
              "    </tr>\n",
              "    <tr>\n",
              "      <th>2</th>\n",
              "      <td>3</td>\n",
              "      <td>10.062316</td>\n",
              "      <td>0.188643</td>\n",
              "      <td>1.716019</td>\n",
              "      <td>7.998815</td>\n",
              "      <td>0.007120</td>\n",
              "    </tr>\n",
              "    <tr>\n",
              "      <th>3</th>\n",
              "      <td>4</td>\n",
              "      <td>10.791337</td>\n",
              "      <td>0.071085</td>\n",
              "      <td>0.729021</td>\n",
              "      <td>7.997334</td>\n",
              "      <td>-0.117558</td>\n",
              "    </tr>\n",
              "    <tr>\n",
              "      <th>4</th>\n",
              "      <td>5</td>\n",
              "      <td>10.754093</td>\n",
              "      <td>0.078442</td>\n",
              "      <td>-0.037244</td>\n",
              "      <td>7.995261</td>\n",
              "      <td>0.007358</td>\n",
              "    </tr>\n",
              "    <tr>\n",
              "      <th>...</th>\n",
              "      <td>...</td>\n",
              "      <td>...</td>\n",
              "      <td>...</td>\n",
              "      <td>...</td>\n",
              "      <td>...</td>\n",
              "      <td>...</td>\n",
              "    </tr>\n",
              "    <tr>\n",
              "      <th>3645</th>\n",
              "      <td>3646</td>\n",
              "      <td>8.642231</td>\n",
              "      <td>-0.869425</td>\n",
              "      <td>0.940298</td>\n",
              "      <td>7.992596</td>\n",
              "      <td>0.185931</td>\n",
              "    </tr>\n",
              "    <tr>\n",
              "      <th>3646</th>\n",
              "      <td>3647</td>\n",
              "      <td>6.527408</td>\n",
              "      <td>-1.268447</td>\n",
              "      <td>-2.114824</td>\n",
              "      <td>7.995261</td>\n",
              "      <td>-0.399021</td>\n",
              "    </tr>\n",
              "    <tr>\n",
              "      <th>3647</th>\n",
              "      <td>3648</td>\n",
              "      <td>6.230707</td>\n",
              "      <td>-1.149234</td>\n",
              "      <td>-0.296701</td>\n",
              "      <td>7.997334</td>\n",
              "      <td>0.119213</td>\n",
              "    </tr>\n",
              "    <tr>\n",
              "      <th>3648</th>\n",
              "      <td>3649</td>\n",
              "      <td>5.550882</td>\n",
              "      <td>-0.420431</td>\n",
              "      <td>-0.679825</td>\n",
              "      <td>7.998815</td>\n",
              "      <td>0.728803</td>\n",
              "    </tr>\n",
              "    <tr>\n",
              "      <th>3649</th>\n",
              "      <td>3650</td>\n",
              "      <td>6.545450</td>\n",
              "      <td>0.250088</td>\n",
              "      <td>0.994568</td>\n",
              "      <td>7.999704</td>\n",
              "      <td>0.670518</td>\n",
              "    </tr>\n",
              "  </tbody>\n",
              "</table>\n",
              "<p>3650 rows × 6 columns</p>\n",
              "</div>"
            ],
            "text/plain": [
              "       dia  regional wind  wind gap norte sur  wind_increase     theta  \\\n",
              "0        1       8.000000            0.000000            NaN  8.000000   \n",
              "1        2       8.346296            0.181523       0.346296  7.999704   \n",
              "2        3      10.062316            0.188643       1.716019  7.998815   \n",
              "3        4      10.791337            0.071085       0.729021  7.997334   \n",
              "4        5      10.754093            0.078442      -0.037244  7.995261   \n",
              "...    ...            ...                 ...            ...       ...   \n",
              "3645  3646       8.642231           -0.869425       0.940298  7.992596   \n",
              "3646  3647       6.527408           -1.268447      -2.114824  7.995261   \n",
              "3647  3648       6.230707           -1.149234      -0.296701  7.997334   \n",
              "3648  3649       5.550882           -0.420431      -0.679825  7.998815   \n",
              "3649  3650       6.545450            0.250088       0.994568  7.999704   \n",
              "\n",
              "       gap_dif  \n",
              "0          NaN  \n",
              "1     0.181523  \n",
              "2     0.007120  \n",
              "3    -0.117558  \n",
              "4     0.007358  \n",
              "...        ...  \n",
              "3645  0.185931  \n",
              "3646 -0.399021  \n",
              "3647  0.119213  \n",
              "3648  0.728803  \n",
              "3649  0.670518  \n",
              "\n",
              "[3650 rows x 6 columns]"
            ]
          },
          "execution_count": 19,
          "metadata": {},
          "output_type": "execute_result"
        }
      ],
      "source": [
        "data['gap_dif'] = daily_dif(data['wind gap norte sur'], data['wind gap norte sur'].shift(1))\n",
        "data"
      ]
    },
    {
      "cell_type": "code",
      "execution_count": 20,
      "metadata": {},
      "outputs": [
        {
          "data": {
            "text/plain": [
              "array([ 0.18152327,  0.00711984, -0.1175584 , ...,  0.11921295,\n",
              "        0.72880316,  0.67051818])"
            ]
          },
          "execution_count": 20,
          "metadata": {},
          "output_type": "execute_result"
        }
      ],
      "source": [
        "Y_gap = (data['gap_dif'])[1:].values\n",
        "Y_gap"
      ]
    },
    {
      "cell_type": "code",
      "execution_count": 21,
      "metadata": {},
      "outputs": [],
      "source": [
        "d_i = data['wind gap norte sur'].shift(1)"
      ]
    },
    {
      "cell_type": "code",
      "execution_count": 22,
      "metadata": {},
      "outputs": [
        {
          "data": {
            "text/plain": [
              "array([ 0.        ,  0.00049732,  0.00051683, ..., -0.0034752 ,\n",
              "       -0.00314859, -0.00115186])"
            ]
          },
          "execution_count": 22,
          "metadata": {},
          "output_type": "execute_result"
        }
      ],
      "source": [
        "X_gap = (d_i * delta)[1:].values\n",
        "X_gap"
      ]
    },
    {
      "cell_type": "code",
      "execution_count": 23,
      "metadata": {},
      "outputs": [],
      "source": [
        "reg_gap = LinearRegression().fit(X_gap.reshape(-1,1), Y_gap)"
      ]
    },
    {
      "cell_type": "code",
      "execution_count": 24,
      "metadata": {},
      "outputs": [
        {
          "data": {
            "text/plain": [
              "array([ 0.00418018,  0.05019633,  0.27783494, ..., -0.19068402,\n",
              "       -0.23020525, -0.32042746])"
            ]
          },
          "execution_count": 24,
          "metadata": {},
          "output_type": "execute_result"
        }
      ],
      "source": [
        "Y_pred_gap = reg_gap.predict(X.reshape(-1,1))\n",
        "Y_pred_gap"
      ]
    },
    {
      "cell_type": "code",
      "execution_count": 25,
      "metadata": {},
      "outputs": [
        {
          "data": {
            "text/plain": [
              "array([ 0.17734309, -0.04307649, -0.39539334, ...,  0.30989697,\n",
              "        0.95900841,  0.99094564])"
            ]
          },
          "execution_count": 25,
          "metadata": {},
          "output_type": "execute_result"
        }
      ],
      "source": [
        "error_gap = Y_gap - Y_pred_gap\n",
        "error_gap"
      ]
    },
    {
      "cell_type": "code",
      "execution_count": 26,
      "metadata": {},
      "outputs": [],
      "source": [
        "c_gap = np.sqrt(error_gap.var())"
      ]
    },
    {
      "cell_type": "code",
      "execution_count": 27,
      "metadata": {},
      "outputs": [
        {
          "data": {
            "text/plain": [
              "0.0"
            ]
          },
          "execution_count": 27,
          "metadata": {},
          "output_type": "execute_result"
        }
      ],
      "source": [
        "D_0 = data['wind gap norte sur'].iloc[0]\n",
        "D_0"
      ]
    },
    {
      "cell_type": "code",
      "execution_count": 30,
      "metadata": {},
      "outputs": [
        {
          "data": {
            "text/plain": [
              "48.37733323194376"
            ]
          },
          "execution_count": 30,
          "metadata": {},
          "output_type": "execute_result"
        }
      ],
      "source": [
        "beta = -(reg_gap.coef_[0])\n",
        "beta"
      ]
    },
    {
      "cell_type": "code",
      "execution_count": 29,
      "metadata": {},
      "outputs": [
        {
          "data": {
            "text/plain": [
              "10.845105393582845"
            ]
          },
          "execution_count": 29,
          "metadata": {},
          "output_type": "execute_result"
        }
      ],
      "source": [
        "gamma = c_gap /np.sqrt(delta)\n",
        "gamma"
      ]
    }
  ],
  "metadata": {
    "colab": {
      "provenance": []
    },
    "kernelspec": {
      "display_name": "Python 3",
      "name": "python3"
    },
    "language_info": {
      "codemirror_mode": {
        "name": "ipython",
        "version": 3
      },
      "file_extension": ".py",
      "mimetype": "text/x-python",
      "name": "python",
      "nbconvert_exporter": "python",
      "pygments_lexer": "ipython3",
      "version": "3.10.1"
    }
  },
  "nbformat": 4,
  "nbformat_minor": 0
}
